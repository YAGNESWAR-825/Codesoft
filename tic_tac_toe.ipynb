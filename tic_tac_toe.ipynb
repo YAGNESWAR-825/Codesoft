{
  "nbformat": 4,
  "nbformat_minor": 0,
  "metadata": {
    "colab": {
      "provenance": [],
      "authorship_tag": "ABX9TyMq/Qsqkbiv/RCY8e9GNkO8",
      "include_colab_link": true
    },
    "kernelspec": {
      "name": "python3",
      "display_name": "Python 3"
    },
    "language_info": {
      "name": "python"
    }
  },
  "cells": [
    {
      "cell_type": "markdown",
      "metadata": {
        "id": "view-in-github",
        "colab_type": "text"
      },
      "source": [
        "<a href=\"https://colab.research.google.com/github/YAGNESWAR-825/codesoft/blob/main/tic_tac_toe.ipynb\" target=\"_parent\"><img src=\"https://colab.research.google.com/assets/colab-badge.svg\" alt=\"Open In Colab\"/></a>"
      ]
    },
    {
      "cell_type": "code",
      "source": [
        "import math\n",
        "\n",
        "# Initialize board\n",
        "board = [' ' for _ in range(9)]\n",
        "\n",
        "def print_board():\n",
        "    for row in [board[i*3:(i+1)*3] for i in range(3)]:\n",
        "        print('| ' + ' | '.join(row) + ' |')\n",
        "\n",
        "def is_winner(brd, player):\n",
        "    win_cond = [\n",
        "        [0,1,2], [3,4,5], [6,7,8],  # rows\n",
        "        [0,3,6], [1,4,7], [2,5,8],  # columns\n",
        "        [0,4,8], [2,4,6]            # diagonals\n",
        "    ]\n",
        "    return any(all(brd[i] == player for i in line) for line in win_cond)\n",
        "\n",
        "def is_full(brd):\n",
        "    return ' ' not in brd\n",
        "\n",
        "def get_available_moves(brd):\n",
        "    return [i for i, val in enumerate(brd) if val == ' ']\n",
        "\n",
        "def minimax(brd, depth, is_maximizing):\n",
        "    if is_winner(brd, 'O'):\n",
        "        return 1\n",
        "    if is_winner(brd, 'X'):\n",
        "        return -1\n",
        "    if is_full(brd):\n",
        "        return 0\n",
        "\n",
        "    if is_maximizing:\n",
        "        best_score = -math.inf\n",
        "        for move in get_available_moves(brd):\n",
        "            brd[move] = 'O'\n",
        "            score = minimax(brd, depth + 1, False)\n",
        "            brd[move] = ' '\n",
        "            best_score = max(score, best_score)\n",
        "        return best_score\n",
        "    else:\n",
        "        best_score = math.inf\n",
        "        for move in get_available_moves(brd):\n",
        "            brd[move] = 'X'\n",
        "            score = minimax(brd, depth + 1, True)\n",
        "            brd[move] = ' '\n",
        "            best_score = min(score, best_score)\n",
        "        return best_score\n",
        "\n",
        "def best_move():\n",
        "    best_score = -math.inf\n",
        "    move = None\n",
        "    for i in get_available_moves(board):\n",
        "        board[i] = 'O'\n",
        "        score = minimax(board, 0, False)\n",
        "        board[i] = ' '\n",
        "        if score > best_score:\n",
        "            best_score = score\n",
        "            move = i\n",
        "    return move\n",
        "\n",
        "def play_game():\n",
        "    print(\"Welcome to Tic-Tac-Toe!\")\n",
        "    print_board()\n",
        "\n",
        "    while True:\n",
        "        # Human turn\n",
        "        move = int(input(\"Enter your move (0-8): \"))\n",
        "        if board[move] != ' ':\n",
        "            print(\"Invalid move. Try again.\")\n",
        "            continue\n",
        "        board[move] = 'X'\n",
        "        print_board()\n",
        "\n",
        "        if is_winner(board, 'X'):\n",
        "            print(\"You win!\")\n",
        "            break\n",
        "        if is_full(board):\n",
        "            print(\"It's a tie!\")\n",
        "            break\n",
        "\n",
        "        # AI turn\n",
        "        ai_move = best_move()\n",
        "        board[ai_move] = 'O'\n",
        "        print(\"AI played:\")\n",
        "        print_board()\n",
        "\n",
        "        if is_winner(board, 'O'):\n",
        "            print(\"AI wins!\")\n",
        "            break\n",
        "        if is_full(board):\n",
        "            print(\"It's a tie!\")\n",
        "            break\n",
        "\n",
        "play_game()\n"
      ],
      "metadata": {
        "colab": {
          "base_uri": "https://localhost:8080/"
        },
        "id": "Dmr6XAyZQQJR",
        "outputId": "35d9c4bd-04ef-4bac-9612-caa48e3e0b68"
      },
      "execution_count": null,
      "outputs": [
        {
          "output_type": "stream",
          "name": "stdout",
          "text": [
            "Welcome to Tic-Tac-Toe!\n",
            "|   |   |   |\n",
            "|   |   |   |\n",
            "|   |   |   |\n",
            "Enter your move (0-8): 4\n",
            "|   |   |   |\n",
            "|   | X |   |\n",
            "|   |   |   |\n",
            "AI played:\n",
            "| O |   |   |\n",
            "|   | X |   |\n",
            "|   |   |   |\n"
          ]
        }
      ]
    }
  ]
}