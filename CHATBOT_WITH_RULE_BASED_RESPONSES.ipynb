{
  "nbformat": 4,
  "nbformat_minor": 0,
  "metadata": {
    "colab": {
      "provenance": [],
      "authorship_tag": "ABX9TyPsRPomgLSk14R+Gxr6Uc8j",
      "include_colab_link": true
    },
    "kernelspec": {
      "name": "python3",
      "display_name": "Python 3"
    },
    "language_info": {
      "name": "python"
    }
  },
  "cells": [
    {
      "cell_type": "markdown",
      "metadata": {
        "id": "view-in-github",
        "colab_type": "text"
      },
      "source": [
        "<a href=\"https://colab.research.google.com/github/YAGNESWAR-825/codesoft/blob/main/CHATBOT_WITH_RULE_BASED_RESPONSES.ipynb\" target=\"_parent\"><img src=\"https://colab.research.google.com/assets/colab-badge.svg\" alt=\"Open In Colab\"/></a>"
      ]
    },
    {
      "cell_type": "code",
      "execution_count": null,
      "metadata": {
        "colab": {
          "base_uri": "https://localhost:8080/"
        },
        "id": "cOHVaq3yItWb",
        "outputId": "5fa2ffef-ed45-43d4-c642-6ee927d1702d"
      },
      "outputs": [
        {
          "output_type": "stream",
          "name": "stdout",
          "text": [
            "ChatBot: Hello! How can I help you today?\n",
            "You: hi\n",
            "ChatBot: Hello there! How can I assist you?\n",
            "You: hello\n",
            "ChatBot: Hello there! How can I assist you?\n",
            "You: retify errors\n",
            "ChatBot: Sorry, I didn't understand that. Can you rephrase it?\n"
          ]
        }
      ],
      "source": [
        "def rule_based_chatbot():\n",
        "    print(\"ChatBot: Hello! How can I help you today?\")\n",
        "\n",
        "    while True:\n",
        "        user_input = input(\"You: \").lower()\n",
        "\n",
        "        if \"hello\" in user_input or \"hi\" in user_input:\n",
        "            print(\"ChatBot: Hello there! How can I assist you?\")\n",
        "\n",
        "        elif \"how are you\" in user_input:\n",
        "            print(\"ChatBot: I'm just a program, but I'm doing great! 😊\")\n",
        "\n",
        "        elif \"your name\" in user_input:\n",
        "            print(\"ChatBot: I'm a simple rule-based chatbot.\")\n",
        "\n",
        "        elif \"bye\" in user_input or \"exit\" in user_input:\n",
        "            print(\"ChatBot: Goodbye! Have a great day! 👋\")\n",
        "            break\n",
        "\n",
        "        elif \"help\" in user_input:\n",
        "            print(\"ChatBot: I can respond to greetings, questions about me, or say goodbye!\")\n",
        "\n",
        "        else:\n",
        "            print(\"ChatBot: Sorry, I didn't understand that. Can you rephrase it?\")\n",
        "\n",
        "\n",
        "# Start the chatbot\n",
        "rule_based_chatbot()\n"
      ]
    }
  ]
}